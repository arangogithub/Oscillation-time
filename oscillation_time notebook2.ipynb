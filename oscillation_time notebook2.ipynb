{
 "cells": [
  {
   "cell_type": "markdown",
   "metadata": {},
   "source": [
    "# 1. Oscillation time and damping coefficients  in a nonlinear pendulum"
   ]
  },
  {
   "cell_type": "markdown",
   "metadata": {},
   "source": [
    "We consider a nonlinear pendulum modeled by \n",
    "$$\n",
    "\\frac{d^2x}{dt^2} + 2\\,\\alpha  \\frac{dx}{dt} + \\beta\\, \\frac{dx}{dt}\\, \\left| \\frac{dx}{dt} \\right|  + x\\, \\left(1-t_{n+1} = t_n \\gamma\\,x^2\\right)=0, \n",
    "\\qquad x(0) = x_0, \\dot{x}(0) = 0.\n",
    "$$\n",
    "Denote by  $\\tau(x_0, \\alpha, \\beta)$ the time taking by the pendulum to complete one oscillation starting at $x_0$ with vanishing velocity. Fixed $x_0$, this notebook explores the dependence of $\\tau$ on the damping coefficients $\\alpha$ and $\\beta$. The effect of an additional parameter  $\\gamma$ is also considered "
   ]
  },
  {
   "cell_type": "code",
   "execution_count": 1,
   "metadata": {},
   "outputs": [],
   "source": [
    "#import scipy.integrate as integrate\n",
    "import matplotlib.pyplot as plt\n",
    "import numpy as np\n",
    "from scipy.special import *"
   ]
  },
  {
   "cell_type": "code",
   "execution_count": 2,
   "metadata": {},
   "outputs": [],
   "source": [
    "#from scipy.integrate import ode\n",
    "from scipy.integrate import odeint\n",
    "from scipy.optimize import fsolve"
   ]
  },
  {
   "cell_type": "code",
   "execution_count": 3,
   "metadata": {},
   "outputs": [],
   "source": [
    "tau_l = lambda a : 2*np.pi/np.sqrt(1-a**2)"
   ]
  },
  {
   "cell_type": "code",
   "execution_count": 4,
   "metadata": {},
   "outputs": [],
   "source": [
    "def pend(x,t,a,b,c=1):\n",
    "    return [x[1], -2*x[1]*a - b*x[1]*np.abs(x[1]) - x[0]*(1-c*x[0]**2)] "
   ]
  },
  {
   "cell_type": "markdown",
   "metadata": {},
   "source": [
    "Numerical approximation on the interval $[0, tm]$ of the   nonlinear pendulum equation starting at $x_0$ with vanishing velocity.  "
   ]
  },
  {
   "cell_type": "code",
   "execution_count": 6,
   "metadata": {},
   "outputs": [],
   "source": [
    "def sol(x0,tm, a,b,c):\n",
    "    xinit = [x0,0.0]\n",
    "    tt = [0.0, tm]\n",
    "    return odeint(pend, xinit,tt, args=(a, b, c))[1]    "
   ]
  },
  {
   "cell_type": "markdown",
   "metadata": {},
   "source": [
    "The function tau approximates the second zero of the $x'(t)$ on for $t>0$. The approximation is done via Newthon's method with a starting value tm:\n",
    "$$\n",
    "t_{n+1} = t_n - \\frac{x'(t_n)}{x''(t_n)}\n",
    "$$"
   ]
  },
  {
   "cell_type": "code",
   "execution_count": 20,
   "metadata": {},
   "outputs": [],
   "source": [
    "def tau(x0, tau_init, a,b, c): \n",
    "    t = tau_init\n",
    "    i, niter = 0, 10\n",
    "    while (i < niter):\n",
    "        S = sol(x0,t, a,b,c) \n",
    "        t= t-S[1]/pend(S,t, a, b, c)[1]\n",
    "        i = i+1\n",
    "    return t"
   ]
  },
  {
   "cell_type": "markdown",
   "metadata": {},
   "source": [
    "## 1. Checking  "
   ]
  },
  {
   "cell_type": "code",
   "execution_count": 127,
   "metadata": {},
   "outputs": [
    {
     "name": "stdout",
     "output_type": "stream",
     "text": [
      "0.04575888425421981 5.752644075584112\n"
     ]
    }
   ],
   "source": [
    "x0, a, b, c  = 0.2, -0.3, 0.0, -1\n",
    "tm0 = tau_l(a)\n",
    "tm = tau(x0, tm0, a,b, c)\n",
    "xinit = [x0,0.0]\n",
    "tvalues =  np.linspace(0, tm, 100)\n",
    "trayectory = odeint(pend, xinit,tvalues, args=(a, b, c)) \n",
    "zero_level= np.zeros(len(tvalues))\n",
    "print(sol(x0,a,b,c,tm)[1], tm)"
   ]
  },
  {
   "cell_type": "code",
   "execution_count": 128,
   "metadata": {},
   "outputs": [
    {
     "data": {
      "image/png": "[encoded data removed]",
      "text/plain": [
       "<Figure size 432x288 with 1 Axes>"
      ]
     },
     "metadata": {
      "needs_background": "light"
     },
     "output_type": "display_data"
    }
   ],
   "source": [
    "plt.plot(tvalues, trayectory[:, 0], 'b', label='x(t)')\n",
    "plt.plot(tvalues, trayectory[:, 1], 'g', label='v(t)')\n",
    "plt.plot(tvalues, zero_level)\n",
    "plt.legend(loc='best')\n",
    "plt.xlabel('t')\n",
    "plt.show()"
   ]
  },
  {
   "cell_type": "markdown",
   "metadata": {},
   "source": [
    "## 2. Continuation numerical procedure "
   ]
  },
  {
   "cell_type": "code",
   "execution_count": 118,
   "metadata": {},
   "outputs": [],
   "source": [
    "npts= 100\n",
    "alpha_max = 0.15\n",
    "alpha_plus = np.linspace(0.0, alpha_max, npts) \n",
    "alpha_minus = -alpha_plus\n",
    "linear_plus = tau_l(alpha_plus)\n",
    "linear_minus = tau_l(alpha_minus)"
   ]
  },
  {
   "cell_type": "code",
   "execution_count": 119,
   "metadata": {},
   "outputs": [],
   "source": [
    "ot0_plus, ot0_minus = np.zeros(npts), np.zeros(npts)"
   ]
  },
  {
   "cell_type": "code",
   "execution_count": 120,
   "metadata": {},
   "outputs": [],
   "source": [
    "x0, b   = 0.2, 0.0 \n",
    "tm = 2*np.pi\n",
    "for ii in range(npts):\n",
    "    tm = tau(x0, tm, alpha_minus[ii],b, -1)\n",
    "    ot0_minus[ii] = tm"
   ]
  },
  {
   "cell_type": "code",
   "execution_count": 121,
   "metadata": {},
   "outputs": [],
   "source": [
    "tp = 2*np.pi\n",
    "for ii in range(npts):\n",
    "    tp= tau(x0, tp, alpha_plus[ii],b, -1)\n",
    "    ot0_plus[ii] = tp"
   ]
  },
  {
   "cell_type": "code",
   "execution_count": 122,
   "metadata": {},
   "outputs": [],
   "source": [
    "ot1_plus, ot1_minus = np.zeros(npts), np.zeros(npts)"
   ]
  },
  {
   "cell_type": "code",
   "execution_count": 123,
   "metadata": {},
   "outputs": [],
   "source": [
    "x0, b   = 0.2, 0.0 "
   ]
  },
  {
   "cell_type": "code",
   "execution_count": 124,
   "metadata": {},
   "outputs": [],
   "source": [
    "tm = 2*np.pi\n",
    "for ii in range(npts):\n",
    "    tm = tau(x0, tm, alpha_minus[ii],b, 1)\n",
    "    ot1_minus[ii] = tm"
   ]
  },
  {
   "cell_type": "code",
   "execution_count": 125,
   "metadata": {},
   "outputs": [],
   "source": [
    "for ii in range(npts):\n",
    "    tp= tau(x0, tp, alpha_plus[ii],b, 1)\n",
    "    ot1_plus[ii] = tp"
   ]
  },
  {
   "cell_type": "code",
   "execution_count": 134,
   "metadata": {},
   "outputs": [
    {
     "data": {
      "image/png": "[encoded data removed]",
      "text/plain": [
       "<Figure size 432x288 with 1 Axes>"
      ]
     },
     "metadata": {
      "needs_background": "light"
     },
     "output_type": "display_data"
    }
   ],
   "source": [
    "plt.plot(alpha_plus,linear_plus, color='blue', linewidth = 3, marker = \"o\",markevery=20, )\n",
    "plt.plot(alpha_minus,linear_minus, color='blue', linewidth = 3, marker = \"o\",markevery=20, )\n",
    "plt.plot(alpha_minus,ot0_minus, color='red', linewidth = 2, marker = \"x\",markevery=20)\n",
    "plt.plot(alpha_plus,ot0_plus, color='red', linewidth = 2, marker = \"x\",markevery=20, \\\n",
    "         label= f'$x_0 = {x0}, a = {c}$' )\n",
    "plt.plot(alpha_minus,ot1_minus, color='black', linewidth = 2, marker = \">\",markevery=20)\n",
    "plt.plot(alpha_plus,ot1_plus, color='black', linewidth = 2, marker = \">\",markevery=20, \\\n",
    "         label= f'$x_0 = {x0}, a = {c}$' )\n",
    "#plt.xticks([0,  0.05, 0.10, 0.15, 0.2, 0.3], [r'$0$', r'$0.05$', r'$0.1$',r'$0.15$', r'$0.2$' , r'$0.3$'],fontsize=12)\n",
    "#plt.yticks([17*np.pi/10, 18*np.pi/10, 19*np.pi/10,2*np.pi,   21*np.pi/10, 22*np.pi/10, 23*np.pi/10], [r'$17\\pi/10$',r'$18\\pi/10$',r'$19\\pi/10$',r'$2\\pi$', r'$21\\pi/10$',r'$22\\pi/10$', r'$23\\pi/10$'],fontsize=16)\n",
    "plt.xlabel(r' $\\alpha$', fontsize=18)\n",
    "plt.ylabel(r'$ \\tau(x_0,\\alpha)$',fontsize=18)\n",
    "plt.grid(True)\n",
    "plt.legend(loc='best')\n",
    "plt.savefig('oscillation_time_comp.png')\n",
    "plt.show()"
   ]
  },
  {
   "cell_type": "raw",
   "metadata": {},
   "source": []
  }
 ],
 "metadata": {
  "kernelspec": {
   "display_name": "Python 3",
   "language": "python",
   "name": "python3"
  },
  "language_info": {
   "codemirror_mode": {
    "name": "ipython",
    "version": 3
   },
   "file_extension": ".py",
   "mimetype": "text/x-python",
   "name": "python",
   "nbconvert_exporter": "python",
   "pygments_lexer": "ipython3",
   "version": "3.8.5"
  }
 },
 "nbformat": 4,
 "nbformat_minor": 1
}
